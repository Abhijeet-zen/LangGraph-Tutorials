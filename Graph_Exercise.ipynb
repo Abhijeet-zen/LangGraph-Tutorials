{
 "cells": [
  {
   "cell_type": "markdown",
   "id": "1b89bbf0",
   "metadata": {},
   "source": [
    "## `LangGraph` based calculator for running calculation for two quantities.\n",
    "----"
   ]
  },
  {
   "cell_type": "markdown",
   "id": "73bc0de5",
   "metadata": {},
   "source": [
    "### Imports"
   ]
  },
  {
   "cell_type": "code",
   "execution_count": 1,
   "id": "d33ee2d2",
   "metadata": {},
   "outputs": [],
   "source": [
    "import os\n",
    "import openai\n",
    "import getpass\n",
    "from dotenv import load_dotenv, find_dotenv"
   ]
  },
  {
   "cell_type": "code",
   "execution_count": 2,
   "id": "1c60cd09",
   "metadata": {},
   "outputs": [],
   "source": [
    "# Cell 1: Install LangGraph and LangChain if not installed\n",
    "# !pip install langgraph langchain openai --quiet\n",
    "\n",
    "# Cell 2: Imports\n",
    "from langgraph.graph import StateGraph, END\n",
    "from langgraph.graph.message import add_messages\n",
    "from langchain_core.runnables import Runnable\n",
    "from typing import TypedDict, Annotated\n",
    "from langchain_openai import ChatOpenAI\n",
    "import operator"
   ]
  },
  {
   "cell_type": "code",
   "execution_count": 3,
   "id": "620167c4",
   "metadata": {},
   "outputs": [],
   "source": [
    "from langchain_core.messages import AnyMessage, SystemMessage, HumanMessage,ToolMessage, AIMessage\n",
    "from langchain.output_parsers.openai_functions import JsonOutputFunctionsParser\n",
    "from langchain_core.prompts import ChatPromptTemplate, MessagesPlaceholder\n",
    "from langchain.schema import HumanMessage\n",
    "from langchain_core.tools import tool"
   ]
  },
  {
   "cell_type": "markdown",
   "id": "a3dcfd29",
   "metadata": {},
   "source": [
    "### Defining Supervisor\n",
    "- This acts as a router for user query. It can decide which node to chose next based on the user's query.\n",
    "- This is a langchain object. It consists of `llm`, `prompt` and `output_parser`.\n",
    "- Every component above is combined and a single `langhchain` object is created."
   ]
  },
  {
   "cell_type": "code",
   "execution_count": 4,
   "id": "74a20152",
   "metadata": {},
   "outputs": [],
   "source": [
    "OPENAI_API_KEY= ''"
   ]
  },
  {
   "cell_type": "code",
   "execution_count": 5,
   "id": "b99e1e9e",
   "metadata": {},
   "outputs": [],
   "source": [
    "llm = ChatOpenAI(model=\"gpt-4o-mini\",api_key = OPENAI_API_KEY)  #reduce inference cost"
   ]
  },
  {
   "cell_type": "code",
   "execution_count": 6,
   "id": "40f61367",
   "metadata": {},
   "outputs": [],
   "source": [
    "# Define the members (agent descriptions)\n",
    "members = [\n",
    "    {\n",
    "        \"agent_name\": \"add\",\n",
    "        \"description\": \"Performs addition of two numbers. Input should be two comma-separated values, e.g., '5,7'.\"\n",
    "    },\n",
    "    {\n",
    "        \"agent_name\": \"subtract\",\n",
    "        \"description\": \"Performs subtraction of two numbers. Input should be two comma-separated values, e.g., '10,3' means 10 - 3.\"\n",
    "    },\n",
    "    {\n",
    "        \"agent_name\": \"multiply\",\n",
    "        \"description\": \"Performs multiplication of two numbers. Input should be two comma-separated values, e.g., '4,6'.\"\n",
    "    },\n",
    "    {\n",
    "        \"agent_name\": \"divide\",\n",
    "        \"description\": \"Performs division of two numbers. Input should be two comma-separated values, e.g., '12,4' means 12 / 4.\"\n",
    "    },\n",
    "    {\n",
    "        \"agent_name\": \"exponent\",\n",
    "        \"description\": \"Performs exponentiation. Raises the first number to the power of the second. Input format: '2,3' means 2^3 = 8.\"\n",
    "    }\n",
    "]\n"
   ]
  },
  {
   "cell_type": "code",
   "execution_count": 7,
   "id": "6b0077f3",
   "metadata": {},
   "outputs": [],
   "source": [
    "options = [\"FINISH\"] + [mem['agent_name'] for mem in members]"
   ]
  },
  {
   "cell_type": "code",
   "execution_count": 8,
   "id": "24a3f226",
   "metadata": {},
   "outputs": [],
   "source": [
    "prompt = \"\"\"\n",
    "You are a smart assistant capable of helping with basic arithmetic operations using specialized tools. \n",
    "You have access to the following tools:\n",
    "\n",
    "- `add`: adds two numbers.\n",
    "- `subtract`: subtracts the second number from the first.\n",
    "- `multiply`: multiplies two numbers.\n",
    "- `divide`: divides the first number by the second.\n",
    "- `exponent`: raises the first number to the power of the second.\n",
    "\n",
    "When a user asks a question, identify the correct tool and extract exactly two numeric values from the input. \n",
    "Pass those values as a comma-separated string to the appropriate tool (e.g., \"5,3\").\n",
    "Try to go through the conversation information provided by the user in input, and if you think solution is\n",
    "already available use `direct_response` to proivde the answer and chose to route to `FINISH`.\n",
    "\n",
    "Always prefer using the tool's response over your own response.\n",
    "If the user query does not require any calculation, do not respond and finish the conversation.\n",
    "\"\"\"\n",
    "\n",
    "\n"
   ]
  },
  {
   "cell_type": "code",
   "execution_count": 9,
   "id": "a08f5ab4",
   "metadata": {},
   "outputs": [],
   "source": [
    "# Define the prompt with placeholders for variables\n",
    "prompt = ChatPromptTemplate.from_messages(\n",
    "    [\n",
    "        (\"system\", prompt.strip()),\n",
    "        MessagesPlaceholder(variable_name=\"messages\"),\n",
    "    ]\n",
    ")"
   ]
  },
  {
   "cell_type": "code",
   "execution_count": 10,
   "id": "977dccd8",
   "metadata": {},
   "outputs": [],
   "source": [
    "# Define the function schema for routing based on updated AgentState\n",
    "function_def = {\n",
    "    \"name\": \"route\",\n",
    "    \"description\": \"Select the next tool to use and optionally pass arguments.\",\n",
    "    \"parameters\": {\n",
    "        \"title\": \"routeSchema\",\n",
    "        \"type\": \"object\",\n",
    "        \"properties\": {\n",
    "            \"next\": {\n",
    "                \"title\": \"Next\",\n",
    "                \"description\": \"Name of the next node/tool to call based on the user query.\",\n",
    "                \"type\": \"string\",\n",
    "                \"enum\": options  # e.g., [\"add\", \"subtract\", \"multiply\", \"divide\", \"exponent\", \"FINISH\"]\n",
    "            },\n",
    "            \"num_1\": {\n",
    "                \"type\": \"number\",\n",
    "                \"description\": \"The first numeric argument extracted from the user's query.\"\n",
    "            },\n",
    "            \"num_2\": {\n",
    "                \"type\": \"number\",\n",
    "                \"description\": \"The second numeric argument extracted from the user's query.\"\n",
    "            },\n",
    "            \"ans\": {\n",
    "                \"type\": \"number\",\n",
    "                \"description\": \"Optional. If you are able to compute the answer directly, provide it here.\",\n",
    "            },\n",
    "            \"thought_process\": {\n",
    "                \"type\": \"string\",\n",
    "                \"description\": \"1–5 bullet points explaining your reasoning before choosing the tool or answer.\"\n",
    "            },\n",
    "            \"direct_response\": {\n",
    "                \"type\": \"string\",\n",
    "                \"description\": \"Optional. Your direct natural language response to the user if no tool is needed.\"\n",
    "            }\n",
    "        },\n",
    "        \"required\": [\"next\", \"num_1\", \"num_2\"]\n",
    "    }\n",
    "}\n"
   ]
  },
  {
   "cell_type": "code",
   "execution_count": 11,
   "id": "a62b7104",
   "metadata": {},
   "outputs": [
    {
     "name": "stderr",
     "output_type": "stream",
     "text": [
      "/var/folders/0h/w2x5g9nd77x9s1fk2h7qj9980000gp/T/ipykernel_44343/1653979275.py:3: LangChainDeprecationWarning: The method `BaseChatOpenAI.bind_functions` was deprecated in langchain-openai 0.2.1 and will be removed in 1.0.0. Use :meth:`~langchain_openai.chat_models.base.ChatOpenAI.bind_tools` instead.\n",
      "  | llm.bind_functions(functions=[function_def], function_call=\"route\")\n"
     ]
    }
   ],
   "source": [
    "supervisor_chain = (\n",
    "    prompt\n",
    "    | llm.bind_functions(functions=[function_def], function_call=\"route\")\n",
    "    | JsonOutputFunctionsParser()\n",
    ")\n"
   ]
  },
  {
   "cell_type": "code",
   "execution_count": 12,
   "id": "a8d8f913",
   "metadata": {
    "scrolled": true
   },
   "outputs": [
    {
     "data": {
      "text/plain": [
       "{'next': 'add', 'num_1': 10, 'num_2': 30}"
      ]
     },
     "execution_count": 12,
     "metadata": {},
     "output_type": "execute_result"
    }
   ],
   "source": [
    "# Invoking `supervisor_chain`\n",
    "supervisor_chain.invoke([HumanMessage(content=\"What is the sum of 10 and 30?\",name='Human')])"
   ]
  },
  {
   "cell_type": "markdown",
   "id": "cf213524",
   "metadata": {},
   "source": [
    "- Our `supervisor_chain` is working fine as per our expectation. It is correctly identifying the arguments and next node to route to."
   ]
  },
  {
   "cell_type": "markdown",
   "id": "d54d3536",
   "metadata": {},
   "source": [
    "--------\n",
    "### Creating our workflow\n",
    "\n",
    "- `Nodes` : Agents or functions\n",
    "- `Edges` : connect nodes\n",
    "- `Conditional Edges` : decisions, about which nodes to go to next\n",
    "\n",
    "\n",
    "\n",
    "- In this workflow a `supervisor` node is connected to various nodes `add`,`subtract`, `multiply`, `divide` and `exponent`.\n",
    "- Based on the user's query, the `supervisor` can decide which node to use in order to answer the question."
   ]
  },
  {
   "cell_type": "markdown",
   "id": "c801f42f",
   "metadata": {},
   "source": [
    "#### Agent State/ Data\n",
    "\n",
    "- Agent State is accessible to all parts of the graph\n",
    "- It is local to the graph\n",
    "- Can be stored in the persistence layer, meaning that we can resume with that state at any point in time later on."
   ]
  },
  {
   "cell_type": "code",
   "execution_count": 13,
   "id": "5806b199",
   "metadata": {},
   "outputs": [],
   "source": [
    "class AgentState(TypedDict):\n",
    "    messages: Annotated[list, add_messages]\n",
    "    num_1 : float\n",
    "    num_2 : float\n",
    "    ans : float\n",
    "    next : str"
   ]
  },
  {
   "cell_type": "code",
   "execution_count": 14,
   "id": "25a969ce",
   "metadata": {},
   "outputs": [],
   "source": [
    "# 📌 Supervisor Node (LLM routing logic)\n",
    "def supervisor_node(state: AgentState,chain=supervisor_chain) -> dict:\n",
    "    \n",
    "    all_msg=\"\"\n",
    "    for msg in state['messages']:\n",
    "        role = \"Human\" if msg.name is None else msg.name\n",
    "        info = msg.content\n",
    "        all_msg += f\"\\n{role} :{info}.\"\n",
    "    \n",
    "    \n",
    "    result = supervisor_chain.invoke([HumanMessage(content=all_msg)])\n",
    "    \n",
    "    \n",
    "    if result['next']=='FINISH':\n",
    "        message = result.get('direct_response',\"Routing to `FINISH`.\")\n",
    "        \n",
    "        return {\n",
    "            \"next\": result['next'],\n",
    "            \"messages\":[HumanMessage(content=message,name='supervisor')]\n",
    "        }\n",
    "        \n",
    "\n",
    "    message = result.get('direct_response', result.get(\"thought_process\",\"\"))\n",
    "    message = \"\".join(message) if type(message)==list else message\n",
    "    \n",
    "    \n",
    "    return {\"next\": result['next'],\n",
    "            \"messages\":[HumanMessage(content=message,name='supervisor')],\n",
    "            \"num_1\":result.get('num_1',state.get('num_1',None)),\n",
    "            \"num_2\":result.get('num_2',state.get('num_2',None)),\n",
    "            \"ans\":result.get('num_2',state.get('ans',None))}\n"
   ]
  },
  {
   "cell_type": "code",
   "execution_count": 15,
   "id": "043d52a1",
   "metadata": {},
   "outputs": [],
   "source": [
    "# New operation-specific nodes\n",
    "def add_node(state: AgentState) -> AgentState:\n",
    "    msg = state[\"messages\"][-1].content\n",
    "    try:\n",
    "        a, b = state.get('num_1',None),state.get('num_2',None)\n",
    "        ans = a + b\n",
    "        response = f\"Addition result: {ans}\"\n",
    "    except Exception as e:\n",
    "        response = f\"Error in add_node: {str(e)}\"\n",
    "        ans = None\n",
    "    return {\"ans\": ans,\"messages\": [AIMessage(content=response,name='add')],\"next\":\"supervisor\"}\n",
    "\n",
    "def subtract_node(state: AgentState) -> AgentState:\n",
    "    msg = state[\"messages\"][-1].content\n",
    "    try:\n",
    "        a, b = state.get('num_1',None),state.get('num_2',None)\n",
    "        ans = a - b\n",
    "        response = f\"Subtraction result: {ans}\"\n",
    "    except Exception as e:\n",
    "        response = f\"Error in subtract_node: {str(e)}\"\n",
    "        ans = None\n",
    "    return {\"ans\":ans,\"messages\": [AIMessage(content=response,name='subtract')],\"next\":\"supervisor\"}\n",
    "\n",
    "def multiply_node(state: AgentState) -> AgentState:\n",
    "    msg = state[\"messages\"][-1].content\n",
    "    try:\n",
    "        a, b = state.get('num_1',None),state.get('num_2',None)\n",
    "        ans = a * b\n",
    "        response = f\"Multiplication result: {ans}\"\n",
    "    except Exception as e:\n",
    "        response = f\"Error in multiply_node: {str(e)}\"\n",
    "        ans = None\n",
    "    return {\"ans\":ans,\"messages\": [AIMessage(content=response,name='multiply')],\"next\":\"supervisor\"}\n",
    "\n",
    "def divide_node(state: AgentState) -> AgentState:\n",
    "    msg = state[\"messages\"][-1].content\n",
    "    try:\n",
    "        a, b = state.get('num_1',None),state.get('num_2',None)\n",
    "        ans = a / b\n",
    "        response = f\"Division result: {ans}\"\n",
    "    except Exception as e:\n",
    "        response = f\"Error in divide_node: {str(e)}\"\n",
    "        ans = None\n",
    "    return {\"ans\":ans,\"messages\": [AIMessage(content=response,name='divide')],\"next\":\"supervisor\"}\n",
    "\n",
    "def exponent_node(state: AgentState) -> AgentState:\n",
    "    msg = state[\"messages\"][-1].content\n",
    "    try:\n",
    "        a, b = state.get('num_1',None),state.get('num_2',None)\n",
    "        ans = a ** b\n",
    "        response = f\"Exponentiation result: {ans}\"\n",
    "    except Exception as e:\n",
    "        response = f\"Error in exponent_node: {str(e)}\"\n",
    "        ans = None\n",
    "    return {\"ans\":ans,\"messages\": [AIMessage(content=response,name='exponent')],\"next\":\"supervisor\"}\n"
   ]
  },
  {
   "cell_type": "code",
   "execution_count": 16,
   "id": "fc46478c",
   "metadata": {},
   "outputs": [],
   "source": [
    "# Build LangGraph with new nodes\n",
    "graph_builder = StateGraph(AgentState)\n",
    "\n",
    "graph_builder.add_node(\"supervisor\", supervisor_node)\n",
    "graph_builder.add_node(\"add\", add_node)\n",
    "graph_builder.add_node(\"subtract\", subtract_node)\n",
    "graph_builder.add_node(\"multiply\", multiply_node)\n",
    "graph_builder.add_node(\"divide\", divide_node)\n",
    "graph_builder.add_node(\"exponent\", exponent_node)\n",
    "\n",
    "graph_builder.set_entry_point(\"supervisor\")\n",
    "graph_builder.add_conditional_edges(\n",
    "    \"supervisor\",\n",
    "    lambda x: x[\"next\"],\n",
    "    {\n",
    "        \"add\": \"add\",\n",
    "        \"subtract\": \"subtract\",\n",
    "        \"multiply\": \"multiply\",\n",
    "        \"divide\": \"divide\",\n",
    "        \"exponent\": \"exponent\",\n",
    "        \"FINISH\": END,\n",
    "    },\n",
    ")\n",
    "graph_builder.add_edge(\"add\", \"supervisor\")\n",
    "graph_builder.add_edge(\"subtract\", \"supervisor\")\n",
    "graph_builder.add_edge(\"multiply\", \"supervisor\")\n",
    "graph_builder.add_edge(\"divide\", \"supervisor\")\n",
    "graph_builder.add_edge(\"exponent\", \"supervisor\")\n",
    "\n",
    "graph = graph_builder.compile()\n"
   ]
  },
  {
   "cell_type": "code",
   "execution_count": 17,
   "id": "d2061191",
   "metadata": {},
   "outputs": [
    {
     "data": {
      "image/png": "[encoded data removed]",
      "text/plain": [
       "<langgraph.graph.state.CompiledStateGraph object at 0x1144ee660>"
      ]
     },
     "execution_count": 17,
     "metadata": {},
     "output_type": "execute_result"
    }
   ],
   "source": [
    "graph"
   ]
  },
  {
   "cell_type": "markdown",
   "id": "86e80b6c",
   "metadata": {},
   "source": [
    "- The above `graph` variable stores the langgraph object, which stores the above defined workflow.\n",
    "- Any query we pass to `graph`, will be processed accordingly."
   ]
  },
  {
   "cell_type": "markdown",
   "id": "e3b0ea7c",
   "metadata": {},
   "source": [
    "-------\n",
    "### Example using `stream` method"
   ]
  },
  {
   "cell_type": "code",
   "execution_count": 18,
   "id": "f5a0e6fe",
   "metadata": {},
   "outputs": [],
   "source": [
    "question = \"\"\"Calculate price of 13.5 oranges if cost of 1 orange is 10Rs, later find how many apples I can buy in\n",
    "that amount if cost of one apple is 17Rs.\"\"\""
   ]
  },
  {
   "cell_type": "code",
   "execution_count": 19,
   "id": "a5515368",
   "metadata": {},
   "outputs": [
    {
     "name": "stdout",
     "output_type": "stream",
     "text": [
      "Human: Calculate price of 13.5 oranges if cost of 1 orange is 10Rs, later find how many apples I can buy in\n",
      "that amount if cost of one apple is 17Rs.\n",
      "\n",
      "\n",
      "{'supervisor': {'next': 'multiply', 'messages': [HumanMessage(content='', additional_kwargs={}, response_metadata={}, name='supervisor', id='3056cee9-6870-4e80-aa89-fc5b5cc5c1b7')], 'num_1': 13.5, 'num_2': 10, 'ans': 10}}\n",
      "{'multiply': {'ans': 135.0, 'messages': [AIMessage(content='Multiplication result: 135.0', additional_kwargs={}, response_metadata={}, name='multiply', id='062a0505-5552-42da-aa03-94e3f7d6c268')], 'next': 'supervisor'}}\n",
      "{'supervisor': {'next': 'divide', 'messages': [HumanMessage(content='You can buy approximately 7.94 apples with the amount from selling 13.5 oranges.', additional_kwargs={}, response_metadata={}, name='supervisor', id='8678cdfd-60d2-4ac5-a2e2-a8d365750cda')], 'num_1': 135, 'num_2': 17, 'ans': 17}}\n",
      "{'divide': {'ans': 7.9411764705882355, 'messages': [AIMessage(content='Division result: 7.9411764705882355', additional_kwargs={}, response_metadata={}, name='divide', id='e1a8499e-366c-44a4-9bb6-79076ba63b41')], 'next': 'supervisor'}}\n",
      "{'supervisor': {'next': 'FINISH', 'messages': [HumanMessage(content='The cost of 13.5 oranges at 10 Rs each is 135 Rs. With that amount, you can buy approximately 7.94 apples at 17 Rs each.', additional_kwargs={}, response_metadata={}, name='supervisor', id='744ba21e-ffb6-4ecf-b030-16d9545cd552')]}}\n"
     ]
    }
   ],
   "source": [
    "print(\"Human\",question,sep=\": \")\n",
    "print('\\n')\n",
    "state = {\"messages\":[HumanMessage(content=question)],\"next\":\"supervisor\"}\n",
    "\n",
    "for s in graph.stream(state):\n",
    "    print(s)"
   ]
  },
  {
   "cell_type": "markdown",
   "id": "3333be6d",
   "metadata": {},
   "source": [
    "-------\n",
    "### Beautifying the print for `stream`"
   ]
  },
  {
   "cell_type": "code",
   "execution_count": 20,
   "id": "48ee912d",
   "metadata": {},
   "outputs": [],
   "source": [
    "def pretty_print_stream(stream):\n",
    "    for step in stream:\n",
    "        for role, output in step.items():\n",
    "            print(f\"\\n🧠 Step: {role.upper()}\")\n",
    "\n",
    "            # Check if it's a dict with 'messages' (AgentState)\n",
    "            if isinstance(output, dict) and \"messages\" in output:\n",
    "                for msg in output[\"messages\"]:\n",
    "                    if isinstance(msg, HumanMessage):\n",
    "                        print(f\"👤 Human: {msg.content}\")\n",
    "                    elif isinstance(msg, AIMessage):\n",
    "                        print(f\"🤖 {role.capitalize()}: {msg.content}\")\n",
    "                    else:\n",
    "                        print(f\"🔹 Message: {msg.content}\")\n",
    "            \n",
    "            # Print additional keys like num_1, num_2, ans\n",
    "            for k, v in output.items():\n",
    "                if k not in [\"messages\"]:\n",
    "                    print(f\"🔸 {k}: {v}\")"
   ]
  },
  {
   "cell_type": "code",
   "execution_count": 21,
   "id": "05871c5b",
   "metadata": {},
   "outputs": [
    {
     "name": "stdout",
     "output_type": "stream",
     "text": [
      "Human: Calculate price of 13.5 oranges if cost of 1 orange is 10Rs, later find how many apples I can buy in\n",
      "that amount if cost of one apple is 17Rs.\n",
      "\n",
      "\n"
     ]
    }
   ],
   "source": [
    "print(\"Human\",question,sep=\": \")\n",
    "print('\\n')\n",
    "\n",
    "state = {\"messages\":[HumanMessage(content=question)],\"next\":\"supervisor\"}"
   ]
  },
  {
   "cell_type": "code",
   "execution_count": 22,
   "id": "8e5a747f",
   "metadata": {},
   "outputs": [
    {
     "name": "stdout",
     "output_type": "stream",
     "text": [
      "\n",
      "🧠 Step: SUPERVISOR\n",
      "👤 Human: The problem asks to calculate the price of 13.5 oranges.Each orange costs 10 Rs.Multiplying the number of oranges by the cost of each will give the total price for oranges.Therefore, I will use the multiply tool with 13.5 and 10.\n",
      "🔸 next: multiply\n",
      "🔸 num_1: 13.5\n",
      "🔸 num_2: 10\n",
      "🔸 ans: 10\n",
      "\n",
      "🧠 Step: MULTIPLY\n",
      "🤖 Multiply: Multiplication result: 135.0\n",
      "🔸 ans: 135.0\n",
      "🔸 next: supervisor\n",
      "\n",
      "🧠 Step: SUPERVISOR\n",
      "👤 Human: \n",
      "🔸 next: divide\n",
      "🔸 num_1: 135\n",
      "🔸 num_2: 17\n",
      "🔸 ans: 17\n",
      "\n",
      "🧠 Step: DIVIDE\n",
      "🤖 Divide: Division result: 7.9411764705882355\n",
      "🔸 ans: 7.9411764705882355\n",
      "🔸 next: supervisor\n",
      "\n",
      "🧠 Step: SUPERVISOR\n",
      "👤 Human: You can buy approximately 7.94 apples with the amount for 13.5 oranges.\n",
      "🔸 next: FINISH\n"
     ]
    }
   ],
   "source": [
    "stream = graph.stream(state)\n",
    "pretty_print_stream(stream)"
   ]
  },
  {
   "cell_type": "markdown",
   "id": "fc9a23bc",
   "metadata": {},
   "source": [
    "-------\n",
    "### Example using `manual` stepwise invoke for each node"
   ]
  },
  {
   "cell_type": "code",
   "execution_count": 23,
   "id": "b5eb40f8",
   "metadata": {},
   "outputs": [],
   "source": [
    "def update_state(state: dict, current_state: dict) -> dict:\n",
    "    \"\"\"\n",
    "    Updates `state` with values from `current_state`.\n",
    "    - Merges 'messages' using LangGraph's `add_messages`\n",
    "    - Updates existing keys or adds new keys\n",
    "    \"\"\"\n",
    "    for key, value in current_state.items():\n",
    "        if key == \"messages\":\n",
    "            state[\"messages\"] = add_messages(state.get(\"messages\", []), value)\n",
    "        else:\n",
    "            state[key] = value\n",
    "    return state"
   ]
  },
  {
   "cell_type": "code",
   "execution_count": 24,
   "id": "b2e97bba",
   "metadata": {},
   "outputs": [
    {
     "name": "stdout",
     "output_type": "stream",
     "text": [
      "Human: Calculate price of 13.5 oranges if cost of 1 orange is 10Rs, later find how many apples I can buy in\n",
      "that amount if cost of one apple is 17Rs.\n",
      "\n",
      "\n"
     ]
    }
   ],
   "source": [
    "print(\"Human\",question,sep=\": \")\n",
    "print('\\n')\n",
    "\n",
    "state = {\"messages\":[HumanMessage(content=question)],\"next\":\"supervisor\"}"
   ]
  },
  {
   "cell_type": "code",
   "execution_count": 25,
   "id": "8e6b1e87",
   "metadata": {},
   "outputs": [
    {
     "data": {
      "text/plain": [
       "{'next': 'multiply',\n",
       " 'messages': [HumanMessage(content='', additional_kwargs={}, response_metadata={}, name='supervisor')],\n",
       " 'num_1': 13.5,\n",
       " 'num_2': 10,\n",
       " 'ans': 10}"
      ]
     },
     "execution_count": 25,
     "metadata": {},
     "output_type": "execute_result"
    }
   ],
   "source": [
    "current_state= graph.nodes[state['next']].invoke(state)\n",
    "current_state"
   ]
  },
  {
   "cell_type": "code",
   "execution_count": 26,
   "id": "a5420a70",
   "metadata": {},
   "outputs": [
    {
     "data": {
      "text/plain": [
       "{'messages': [HumanMessage(content='Calculate price of 13.5 oranges if cost of 1 orange is 10Rs, later find how many apples I can buy in\\nthat amount if cost of one apple is 17Rs.', additional_kwargs={}, response_metadata={}, id='a46ca433-87e8-4464-b973-46afe2c6a3c2'),\n",
       "  HumanMessage(content='', additional_kwargs={}, response_metadata={}, name='supervisor', id='ff39a3d2-6f49-4df7-9e08-9c1e7f092c3e')],\n",
       " 'next': 'multiply',\n",
       " 'num_1': 13.5,\n",
       " 'num_2': 10,\n",
       " 'ans': 10}"
      ]
     },
     "execution_count": 26,
     "metadata": {},
     "output_type": "execute_result"
    }
   ],
   "source": [
    "state = update_state(state,current_state)\n",
    "state"
   ]
  },
  {
   "cell_type": "code",
   "execution_count": 27,
   "id": "c7f65ca0",
   "metadata": {},
   "outputs": [
    {
     "data": {
      "text/plain": [
       "{'ans': 135.0,\n",
       " 'messages': [AIMessage(content='Multiplication result: 135.0', additional_kwargs={}, response_metadata={}, name='multiply')],\n",
       " 'next': 'supervisor'}"
      ]
     },
     "execution_count": 27,
     "metadata": {},
     "output_type": "execute_result"
    }
   ],
   "source": [
    "current_state= graph.nodes[state['next']].invoke(state)\n",
    "current_state"
   ]
  },
  {
   "cell_type": "code",
   "execution_count": 28,
   "id": "358f7ed3",
   "metadata": {},
   "outputs": [
    {
     "data": {
      "text/plain": [
       "{'messages': [HumanMessage(content='Calculate price of 13.5 oranges if cost of 1 orange is 10Rs, later find how many apples I can buy in\\nthat amount if cost of one apple is 17Rs.', additional_kwargs={}, response_metadata={}, id='a46ca433-87e8-4464-b973-46afe2c6a3c2'),\n",
       "  HumanMessage(content='', additional_kwargs={}, response_metadata={}, name='supervisor', id='ff39a3d2-6f49-4df7-9e08-9c1e7f092c3e'),\n",
       "  AIMessage(content='Multiplication result: 135.0', additional_kwargs={}, response_metadata={}, name='multiply', id='5519a216-9790-4dbc-9ea1-83e6e97b6cee')],\n",
       " 'next': 'supervisor',\n",
       " 'num_1': 13.5,\n",
       " 'num_2': 10,\n",
       " 'ans': 135.0}"
      ]
     },
     "execution_count": 28,
     "metadata": {},
     "output_type": "execute_result"
    }
   ],
   "source": [
    "state = update_state(state,current_state)\n",
    "state"
   ]
  },
  {
   "cell_type": "code",
   "execution_count": 29,
   "id": "e21715d1",
   "metadata": {},
   "outputs": [
    {
     "data": {
      "text/plain": [
       "{'next': 'divide',\n",
       " 'messages': [HumanMessage(content='You can buy a certain number of apples with the amount from the oranges.', additional_kwargs={}, response_metadata={}, name='supervisor')],\n",
       " 'num_1': 135,\n",
       " 'num_2': 17,\n",
       " 'ans': 17}"
      ]
     },
     "execution_count": 29,
     "metadata": {},
     "output_type": "execute_result"
    }
   ],
   "source": [
    "current_state= graph.nodes[state['next']].invoke(state)\n",
    "current_state"
   ]
  },
  {
   "cell_type": "code",
   "execution_count": 30,
   "id": "63c7a34a",
   "metadata": {},
   "outputs": [
    {
     "data": {
      "text/plain": [
       "{'messages': [HumanMessage(content='Calculate price of 13.5 oranges if cost of 1 orange is 10Rs, later find how many apples I can buy in\\nthat amount if cost of one apple is 17Rs.', additional_kwargs={}, response_metadata={}, id='a46ca433-87e8-4464-b973-46afe2c6a3c2'),\n",
       "  HumanMessage(content='', additional_kwargs={}, response_metadata={}, name='supervisor', id='ff39a3d2-6f49-4df7-9e08-9c1e7f092c3e'),\n",
       "  AIMessage(content='Multiplication result: 135.0', additional_kwargs={}, response_metadata={}, name='multiply', id='5519a216-9790-4dbc-9ea1-83e6e97b6cee'),\n",
       "  HumanMessage(content='You can buy a certain number of apples with the amount from the oranges.', additional_kwargs={}, response_metadata={}, name='supervisor', id='13930f00-dfa6-4ba4-b92e-1f3723809f7d')],\n",
       " 'next': 'divide',\n",
       " 'num_1': 135,\n",
       " 'num_2': 17,\n",
       " 'ans': 17}"
      ]
     },
     "execution_count": 30,
     "metadata": {},
     "output_type": "execute_result"
    }
   ],
   "source": [
    "state = update_state(state,current_state)\n",
    "state"
   ]
  },
  {
   "cell_type": "code",
   "execution_count": 31,
   "id": "775d6cf4",
   "metadata": {},
   "outputs": [
    {
     "data": {
      "text/plain": [
       "{'ans': 7.9411764705882355,\n",
       " 'messages': [AIMessage(content='Division result: 7.9411764705882355', additional_kwargs={}, response_metadata={}, name='divide')],\n",
       " 'next': 'supervisor'}"
      ]
     },
     "execution_count": 31,
     "metadata": {},
     "output_type": "execute_result"
    }
   ],
   "source": [
    "current_state= graph.nodes[state['next']].invoke(state)\n",
    "current_state"
   ]
  },
  {
   "cell_type": "code",
   "execution_count": 32,
   "id": "3c79f478",
   "metadata": {},
   "outputs": [
    {
     "data": {
      "text/plain": [
       "{'messages': [HumanMessage(content='Calculate price of 13.5 oranges if cost of 1 orange is 10Rs, later find how many apples I can buy in\\nthat amount if cost of one apple is 17Rs.', additional_kwargs={}, response_metadata={}, id='a46ca433-87e8-4464-b973-46afe2c6a3c2'),\n",
       "  HumanMessage(content='', additional_kwargs={}, response_metadata={}, name='supervisor', id='ff39a3d2-6f49-4df7-9e08-9c1e7f092c3e'),\n",
       "  AIMessage(content='Multiplication result: 135.0', additional_kwargs={}, response_metadata={}, name='multiply', id='5519a216-9790-4dbc-9ea1-83e6e97b6cee'),\n",
       "  HumanMessage(content='You can buy a certain number of apples with the amount from the oranges.', additional_kwargs={}, response_metadata={}, name='supervisor', id='13930f00-dfa6-4ba4-b92e-1f3723809f7d'),\n",
       "  AIMessage(content='Division result: 7.9411764705882355', additional_kwargs={}, response_metadata={}, name='divide', id='63c1ca85-4563-4bb7-b1d4-cd7370472b6d')],\n",
       " 'next': 'supervisor',\n",
       " 'num_1': 135,\n",
       " 'num_2': 17,\n",
       " 'ans': 7.9411764705882355}"
      ]
     },
     "execution_count": 32,
     "metadata": {},
     "output_type": "execute_result"
    }
   ],
   "source": [
    "state = update_state(state,current_state)\n",
    "state"
   ]
  },
  {
   "cell_type": "code",
   "execution_count": 33,
   "id": "f05893aa",
   "metadata": {},
   "outputs": [
    {
     "data": {
      "text/plain": [
       "{'next': 'FINISH',\n",
       " 'messages': [HumanMessage(content='You can buy approximately 7 apples with the amount from selling 13.5 oranges.', additional_kwargs={}, response_metadata={}, name='supervisor')]}"
      ]
     },
     "execution_count": 33,
     "metadata": {},
     "output_type": "execute_result"
    }
   ],
   "source": [
    "current_state= graph.nodes[state['next']].invoke(state)\n",
    "current_state"
   ]
  },
  {
   "cell_type": "markdown",
   "id": "c0d9d6b3",
   "metadata": {},
   "source": [
    "-------\n",
    "#### The END..!\n"
   ]
  },
  {
   "cell_type": "markdown",
   "id": "85ab398d",
   "metadata": {},
   "source": [
    "------"
   ]
  },
  {
   "cell_type": "code",
   "execution_count": null,
   "id": "1f927966",
   "metadata": {},
   "outputs": [],
   "source": []
  }
 ],
 "metadata": {
  "kernelspec": {
   "display_name": "gen_ai_test",
   "language": "python",
   "name": "gen_ai_test"
  },
  "language_info": {
   "codemirror_mode": {
    "name": "ipython",
    "version": 3
   },
   "file_extension": ".py",
   "mimetype": "text/x-python",
   "name": "python",
   "nbconvert_exporter": "python",
   "pygments_lexer": "ipython3",
   "version": "3.12.9"
  }
 },
 "nbformat": 4,
 "nbformat_minor": 5
}
